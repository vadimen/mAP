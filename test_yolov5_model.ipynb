{
 "cells": [
  {
   "cell_type": "code",
   "execution_count": 294,
   "id": "10b4d4fc",
   "metadata": {},
   "outputs": [],
   "source": [
    "v5dir = \"/home/yolov5/yolov5/\"\n",
    "exp = \"exp34\"\n",
    "dataset_dir = \"/data_dataset_v5/\" #relative to yolov5/datasets/ folder\n",
    "dataset_yaml = \"/dataset_v5.yaml\"\n",
    "tst_or_val = \"test\" #run on the test or validation set, might be train also\n",
    "last_or_best = \"best\" #trained model weights "
   ]
  },
  {
   "cell_type": "code",
   "execution_count": 295,
   "id": "0b09f14c",
   "metadata": {},
   "outputs": [
    {
     "name": "stdout",
     "output_type": "stream",
     "text": [
      "{'path': '/home/yolov5/datasets/data_dataset_v5/', 'train': 'images/train', 'val': 'images/test', 'test': 'images/test', 'nc': 2, 'names': ['adult', 'kid']}\n",
      "adult,kid\n"
     ]
    }
   ],
   "source": [
    "#modifying yaml file to test or validation in 'val' field\n",
    "import yaml\n",
    "import io\n",
    "\n",
    "with open(v5dir+\"../datasets/\"+dataset_dir+\"/\"+dataset_yaml, 'r') as stream:\n",
    "    data = yaml.safe_load(stream)\n",
    "    data['val'] = \"images/\"+tst_or_val\n",
    "print(data)\n",
    "\n",
    "classes = \",\".join(data[\"names\"])\n",
    "print(classes)\n",
    "\n",
    "with io.open(v5dir+\"../datasets/\"+dataset_dir+\"/\"+dataset_yaml, 'w', encoding='utf8') as outfile:\n",
    "    yaml.dump(data, outfile, default_flow_style=False, allow_unicode=True)"
   ]
  },
  {
   "cell_type": "code",
   "execution_count": 296,
   "id": "2f50082f",
   "metadata": {},
   "outputs": [],
   "source": [
    "!rm -rf input/detection-results/*\n",
    "!rm -rf input/ground-truth/*\n",
    "!rm -rf {v5dir}runs/val/*"
   ]
  },
  {
   "cell_type": "code",
   "execution_count": 297,
   "id": "cd12128a",
   "metadata": {},
   "outputs": [
    {
     "name": "stdout",
     "output_type": "stream",
     "text": [
      "\u001b[34m\u001b[1mval: \u001b[0mdata=/home/yolov5/yolov5/../datasets//data_dataset_v5///dataset_v5.yaml, weights=['/home/yolov5/yolov5/runs/train/exp34/weights/best.pt'], batch_size=8, imgsz=640, conf_thres=0.001, iou_thres=0.6, task=val, device=, single_cls=False, augment=False, verbose=False, save_txt=True, save_hybrid=False, save_conf=True, save_json=False, project=../yolov5/yolov5/runs/val, name=exp, exist_ok=False, half=False\n",
      "YOLOv5 🚀 v6.0-8-g1172ac1 torch 1.10.0+cu102 CUDA:0 (GeForce RTX 2080, 7981.0MB)\n",
      "\n",
      "Fusing layers... \n",
      "/usr/local/lib/python3.8/dist-packages/torch/functional.py:445: UserWarning: torch.meshgrid: in an upcoming release, it will be required to pass the indexing argument. (Triggered internally at  ../aten/src/ATen/native/TensorShape.cpp:2157.)\n",
      "  return _VF.meshgrid(tensors, **kwargs)  # type: ignore[attr-defined]\n",
      "Model Summary: 290 layers, 20856975 parameters, 0 gradients, 48.0 GFLOPs\n",
      "\u001b[34m\u001b[1mval: \u001b[0mScanning '/home/yolov5/datasets/data_dataset_v5/labels/test' images and lab\u001b[0m\n",
      "\u001b[34m\u001b[1mval: \u001b[0mNew cache created: /home/yolov5/datasets/data_dataset_v5/labels/test.cache\n",
      "               Class     Images     Labels          P          R     mAP@.5 mAP@\n",
      "                 all        239        469      0.844       0.74      0.812       0.57\n",
      "               adult        239        183      0.814      0.656      0.721      0.461\n",
      "                 kid        239        286      0.874      0.825      0.904       0.68\n",
      "Speed: 0.1ms pre-process, 9.1ms inference, 1.9ms NMS per image at shape (8, 3, 640, 640)\n",
      "Results saved to \u001b[1m../yolov5/yolov5/runs/val/exp\u001b[0m\n",
      "239 labels saved to ../yolov5/yolov5/runs/val/exp/labels\n"
     ]
    }
   ],
   "source": [
    "!python3 {v5dir}val.py --data {v5dir}../datasets/{dataset_dir}/{dataset_yaml} --weights {v5dir}runs/train/{exp}/weights/{last_or_best}.pt --batch 8 --save-txt --save-conf"
   ]
  },
  {
   "cell_type": "code",
   "execution_count": 298,
   "id": "a08450b3",
   "metadata": {},
   "outputs": [],
   "source": [
    "#converting detection results\n",
    "!python3 scripts/extra/conv_gt_dr_yol5_to_repo_format.py --img-dir {v5dir}../datasets/{dataset_dir}/images/{tst_or_val}/ --gt-dr-dir {v5dir}/runs/val/exp/labels/ --save-dir input/detection-results/ --dt"
   ]
  },
  {
   "cell_type": "code",
   "execution_count": 299,
   "id": "55d5102c",
   "metadata": {},
   "outputs": [],
   "source": [
    "#converting dataset validation ground truths\n",
    "!python3 scripts/extra/conv_gt_dr_yol5_to_repo_format.py --img-dir {v5dir}../datasets/{dataset_dir}/images/{tst_or_val}/ --gt-dr-dir {v5dir}../datasets/{dataset_dir}/labels/{tst_or_val}/ --save-dir input/ground-truth/"
   ]
  },
  {
   "cell_type": "code",
   "execution_count": 300,
   "id": "b2d9b89f",
   "metadata": {},
   "outputs": [
    {
     "name": "stdout",
     "output_type": "stream",
     "text": [
      "total ground-truth files: 239\r\n",
      "total detection-results files: 239\r\n",
      "\r\n",
      "No backup required for /home/mAP/input/ground-truth\r\n",
      "No backup required for /home/mAP/input/detection-results\r\n",
      "total intersected files: 239\r\n",
      "Intersection completed!\r\n"
     ]
    }
   ],
   "source": [
    "!python3 scripts/extra/intersect-gt-and-dr.py"
   ]
  },
  {
   "cell_type": "code",
   "execution_count": 301,
   "id": "520bcfe9",
   "metadata": {},
   "outputs": [
    {
     "name": "stdout",
     "output_type": "stream",
     "text": [
      "               Class     Images     Labels          P          R     mAP@.5 mAP@.5:.95\n",
      "                 all        239        469      0.846      0.745      0.817      0.573\n",
      "----------------------------------------------------------------------------------------------------\n",
      "               adult        239        183      0.818      0.661      0.729      0.461\n",
      "                 kid        239        286      0.875      0.829      0.905      0.684\n",
      "\n",
      "\n",
      "labels per class in train set:\n",
      "adult,kid\n",
      "{'0': 3223, '1': 5185}\n",
      "\n",
      "\n",
      "\n",
      "----- for easy insertion into a sheet just copy this by row\n",
      "all\t239\t469\t0.846\t0.745\t0.817\t0.573\n",
      "adult\t239\t183\t0.818\t0.661\t0.729\t0.461\n",
      "kid\t239\t286\t0.875\t0.829\t0.905\t0.684\n"
     ]
    }
   ],
   "source": [
    "#this are results that will go into comparation table\n",
    "!python3 main.py -na -q --no-plot --classes {classes} --train-gt-folder {v5dir}../datasets/{dataset_dir}/labels/train/"
   ]
  },
  {
   "cell_type": "code",
   "execution_count": null,
   "id": "75a71c33",
   "metadata": {},
   "outputs": [],
   "source": []
  }
 ],
 "metadata": {
  "kernelspec": {
   "display_name": "Python 3 (ipykernel)",
   "language": "python",
   "name": "python3"
  },
  "language_info": {
   "codemirror_mode": {
    "name": "ipython",
    "version": 3
   },
   "file_extension": ".py",
   "mimetype": "text/x-python",
   "name": "python",
   "nbconvert_exporter": "python",
   "pygments_lexer": "ipython3",
   "version": "3.8.10"
  }
 },
 "nbformat": 4,
 "nbformat_minor": 5
}
