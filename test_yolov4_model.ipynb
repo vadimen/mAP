{
 "cells": [
  {
   "cell_type": "code",
   "execution_count": 661,
   "id": "1f7fa259",
   "metadata": {
    "scrolled": true
   },
   "outputs": [
    {
     "name": "stdout",
     "output_type": "stream",
     "text": [
      "/home/mAP\n"
     ]
    },
    {
     "data": {
      "text/plain": [
       "0"
      ]
     },
     "execution_count": 661,
     "metadata": {},
     "output_type": "execute_result"
    }
   ],
   "source": [
    "darknet_dir = \"/home/darknet/\"\n",
    "version = \"v5_1_1\"\n",
    "#tst_or_val = \"validation\"\n",
    "tst_or_val = \"test\"\n",
    "nr = 0 #pos for the name array\n",
    "name = [\"yolov4-tiny-416\", \"yolov4-tiny-608\", \"yolov4-csp_512\", \"yolov4-csp_608\"]\n",
    "model_path = darknet_dir + \"backup{}_data_dataset_{}_y4/{}_best.weights\".format(nr+1, version, name[nr])\n",
    "data_dir = \"data_dataset_{}_y4/\".format(version)\n",
    "cfg = \"{}.cfg\".format(name[nr])\n",
    "txt_file = tst_or_val+\".txt\" #list with images to test on\n",
    "\n",
    "classes = \"adult,kid\"\n",
    "os.system(\"pwd\")"
   ]
  },
  {
   "cell_type": "code",
   "execution_count": 662,
   "id": "49465e41",
   "metadata": {},
   "outputs": [
    {
     "name": "stdout",
     "output_type": "stream",
     "text": [
      "/home/darknet\n"
     ]
    },
    {
     "name": "stderr",
     "output_type": "stream",
     "text": [
      " CUDA-version: 11020 (11020), cuDNN: 8.1.1, CUDNN_HALF=1, GPU count: 1  \n",
      " OpenCV version: 4.2.0\n",
      " 0 : compute_capability = 750, cudnn_half = 1, GPU: GeForce RTX 2080 \n",
      "   layer   filters  size/strd(dil)      input                output\n",
      "   0 conv     32       3 x 3/ 2    416 x 416 x   3 ->  208 x 208 x  32 0.075 BF\n",
      "   1 conv     64       3 x 3/ 2    208 x 208 x  32 ->  104 x 104 x  64 0.399 BF\n",
      "   2 conv     64       3 x 3/ 1    104 x 104 x  64 ->  104 x 104 x  64 0.797 BF\n",
      "   3 route  2 \t\t                       1/2 ->  104 x 104 x  32 \n",
      "   4 conv     32       3 x 3/ 1    104 x 104 x  32 ->  104 x 104 x  32 0.199 BF\n",
      "   5 conv     32       3 x 3/ 1    104 x 104 x  32 ->  104 x 104 x  32 0.199 BF\n",
      "   6 route  5 4 \t                           ->  104 x 104 x  64 \n",
      "   7 conv     64       1 x 1/ 1    104 x 104 x  64 ->  104 x 104 x  64 0.089 BF\n",
      "   8 route  2 7 \t                           ->  104 x 104 x 128 \n",
      "   9 max                2x 2/ 2    104 x 104 x 128 ->   52 x  52 x 128 0.001 BF\n",
      "  10 conv    128       3 x 3/ 1     52 x  52 x 128 ->   52 x  52 x 128 0.797 BF\n",
      "  11 route  10 \t\t                       1/2 ->   52 x  52 x  64 \n",
      "  12 conv     64       3 x 3/ 1     52 x  52 x  64 ->   52 x  52 x  64 0.199 BF\n",
      "  13 conv     64       3 x 3/ 1     52 x  52 x  64 ->   52 x  52 x  64 0.199 BF\n",
      "  14 route  13 12 \t                           ->   52 x  52 x 128 \n",
      "  15 conv    128       1 x 1/ 1     52 x  52 x 128 ->   52 x  52 x 128 0.089 BF\n",
      "  16 route  10 15 \t                           ->   52 x  52 x 256 \n",
      "  17 max                2x 2/ 2     52 x  52 x 256 ->   26 x  26 x 256 0.001 BF\n",
      "  18 conv    256       3 x 3/ 1     26 x  26 x 256 ->   26 x  26 x 256 0.797 BF\n",
      "  19 route  18 \t\t                       1/2 ->   26 x  26 x 128 \n",
      "  20 conv    128       3 x 3/ 1     26 x  26 x 128 ->   26 x  26 x 128 0.199 BF\n",
      "  21 conv    128       3 x 3/ 1     26 x  26 x 128 ->   26 x  26 x 128 0.199 BF\n",
      "  22 route  21 20 \t                           ->   26 x  26 x 256 \n",
      "  23 conv    256       1 x 1/ 1     26 x  26 x 256 ->   26 x  26 x 256 0.089 BF\n",
      "  24 route  18 23 \t                           ->   26 x  26 x 512 \n",
      "  25 max                2x 2/ 2     26 x  26 x 512 ->   13 x  13 x 512 0.000 BF\n",
      "  26 conv    512       3 x 3/ 1     13 x  13 x 512 ->   13 x  13 x 512 0.797 BF\n",
      "  27 conv    256       1 x 1/ 1     13 x  13 x 512 ->   13 x  13 x 256 0.044 BF\n",
      "  28 conv    512       3 x 3/ 1     13 x  13 x 256 ->   13 x  13 x 512 0.399 BF\n",
      "  29 conv     21       1 x 1/ 1     13 x  13 x 512 ->   13 x  13 x  21 0.004 BF\n",
      "  30 yolo\n",
      "[yolo] params: iou loss: ciou (4), iou_norm: 0.07, obj_norm: 1.00, cls_norm: 1.00, delta_norm: 1.00, scale_x_y: 1.05\n",
      "  31 route  27 \t\t                           ->   13 x  13 x 256 \n",
      "  32 conv    128       1 x 1/ 1     13 x  13 x 256 ->   13 x  13 x 128 0.011 BF\n",
      "  33 upsample                 2x    13 x  13 x 128 ->   26 x  26 x 128\n",
      "  34 route  33 23 \t                           ->   26 x  26 x 384 \n",
      "  35 conv    256       3 x 3/ 1     26 x  26 x 384 ->   26 x  26 x 256 1.196 BF\n",
      "  36 conv     21       1 x 1/ 1     26 x  26 x 256 ->   26 x  26 x  21 0.007 BF\n",
      "  37 yolo\n",
      "[yolo] params: iou loss: ciou (4), iou_norm: 0.07, obj_norm: 1.00, cls_norm: 1.00, delta_norm: 1.00, scale_x_y: 1.05\n",
      "Total BFLOPS 6.789 \n",
      "avg_outputs = 299797 \n",
      " Allocate additional workspace_size = 72.42 MB \n",
      "Loading weights from /home/darknet/backup1_data_dataset_v5_1_1_y4/yolov4-tiny-416_best.weights...Done! Loaded 38 layers from weights-file \n"
     ]
    },
    {
     "data": {
      "text/plain": [
       "0"
      ]
     },
     "execution_count": 662,
     "metadata": {},
     "output_type": "execute_result"
    }
   ],
   "source": [
    "import os\n",
    "s = \"./darknet detector test {}/obj.data {}/{} {} -dont_show -ext_output < {}/{} > result.txt\".format(data_dir, \n",
    "                     data_dir, cfg, model_path, data_dir, txt_file)\n",
    "os.chdir(\"/home/darknet/\")\n",
    "os.system(\"pwd\")\n",
    "os.system(s)"
   ]
  },
  {
   "cell_type": "code",
   "execution_count": 663,
   "id": "e997d8ce",
   "metadata": {},
   "outputs": [
    {
     "name": "stdout",
     "output_type": "stream",
     "text": [
      "/home/mAP\n"
     ]
    },
    {
     "data": {
      "text/plain": [
       "0"
      ]
     },
     "execution_count": 663,
     "metadata": {},
     "output_type": "execute_result"
    }
   ],
   "source": [
    "os.chdir(\"/home/mAP/\")\n",
    "os.system(\"pwd\")"
   ]
  },
  {
   "cell_type": "code",
   "execution_count": 664,
   "id": "db21a75e",
   "metadata": {},
   "outputs": [],
   "source": [
    "!rm -rf input/detection-results/*\n",
    "!rm -rf input/ground-truth/*"
   ]
  },
  {
   "cell_type": "code",
   "execution_count": 665,
   "id": "22064010",
   "metadata": {},
   "outputs": [],
   "source": [
    "#converting yolov4 detection results\n",
    "!python3 scripts/extra/conv_dr_yol4_to_repo_format.py --results-file /home/darknet/result.txt --dr-folder input/detection-results/ --classes {classes} "
   ]
  },
  {
   "cell_type": "code",
   "execution_count": 666,
   "id": "d81c4ff1",
   "metadata": {},
   "outputs": [],
   "source": [
    "#converting dataset ground truths\n",
    "!python3 scripts/extra/conv_gt_dr_yol5_to_repo_format.py --img-dir {darknet_dir}/{data_dir}/{tst_or_val}/ --gt-dr-dir {darknet_dir}/{data_dir}/{tst_or_val}/ --save-dir input/ground-truth/"
   ]
  },
  {
   "cell_type": "code",
   "execution_count": 667,
   "id": "53da38c8",
   "metadata": {},
   "outputs": [
    {
     "name": "stdout",
     "output_type": "stream",
     "text": [
      "total ground-truth files: 239\r\n",
      "total detection-results files: 239\r\n",
      "\r\n",
      "No backup required for /home/mAP/input/ground-truth\r\n",
      "No backup required for /home/mAP/input/detection-results\r\n",
      "total intersected files: 239\r\n",
      "Intersection completed!\r\n"
     ]
    }
   ],
   "source": [
    "!python3 scripts/extra/intersect-gt-and-dr.py"
   ]
  },
  {
   "cell_type": "code",
   "execution_count": 668,
   "id": "4f3bdac0",
   "metadata": {},
   "outputs": [
    {
     "name": "stdout",
     "output_type": "stream",
     "text": [
      "               Class     Images     Labels          P          R     mAP@.5 mAP@.5:.95\n",
      "                 all        239        458      0.644      0.707      0.696      0.415\n",
      "----------------------------------------------------------------------------------------------------\n",
      "               adult        239        180      0.589      0.622      0.616      0.356\n",
      "                 kid        239        278      0.698      0.791      0.777      0.475\n",
      "\n",
      "\n",
      "labels per class in train set:\n",
      "adult,kid\n",
      "{'0': 3223, '1': 3222}\n",
      "\n",
      "\n",
      "\n",
      "----- for easy insertion into a sheet just copy this by row\n",
      "all\t239\t458\t0.644\t0.707\t0.696\t0.415\n",
      "adult\t239\t180\t0.589\t0.622\t0.616\t0.356\n",
      "kid\t239\t278\t0.698\t0.791\t0.777\t0.475\n"
     ]
    }
   ],
   "source": [
    "#this are results that will go into comparation table\n",
    "!python3 main.py -na -q --no-plot --classes {classes} --train-gt-folder {darknet_dir}/{data_dir}/train/ --log {model_path}--{tst_or_val}\n"
   ]
  },
  {
   "cell_type": "code",
   "execution_count": null,
   "id": "e11316c3",
   "metadata": {},
   "outputs": [],
   "source": []
  }
 ],
 "metadata": {
  "kernelspec": {
   "display_name": "Python 3 (ipykernel)",
   "language": "python",
   "name": "python3"
  },
  "language_info": {
   "codemirror_mode": {
    "name": "ipython",
    "version": 3
   },
   "file_extension": ".py",
   "mimetype": "text/x-python",
   "name": "python",
   "nbconvert_exporter": "python",
   "pygments_lexer": "ipython3",
   "version": "3.8.10"
  }
 },
 "nbformat": 4,
 "nbformat_minor": 5
}
